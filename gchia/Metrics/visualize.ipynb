{
 "cells": [
  {
   "cell_type": "code",
   "execution_count": null,
   "metadata": {},
   "outputs": [],
   "source": [
    "from visualize import *\n",
    "import numpy as np\n",
    "import pyBigWig\n",
    "import torch\n",
    "import os\n",
    "import sys"
   ]
  },
  {
   "cell_type": "code",
   "execution_count": null,
   "metadata": {},
   "outputs": [],
   "source": [
    "def _read_hic_matrix(hic_file, chrom, start, end, res,log1p=True, normalization = 'NONE'):\n",
    "        \"\"\"\n",
    "        Reads a Hi-C interaction matrix for a specified genomic region from a Hi-C file.\n",
    "        Args:\n",
    "            hic_file (str): Path to the Hi-C file.\n",
    "            chrom (str): Chromosome name.\n",
    "            start (int): Start position of the genomic region.\n",
    "            end (int): End position of the genomic region.\n",
    "        Returns:\n",
    "            csr_matrix: A sparse matrix representing the Hi-C interaction matrix for the specified region.\n",
    "        The function uses the hicstraw library to extract observed interaction values for the specified region.\n",
    "        It constructs a sparse matrix from these values, ensuring that the matrix is symmetric and the diagonal\n",
    "        values are halved. If an error occurs during the process, an empty sparse matrix of the appropriate size\n",
    "        is returned.\n",
    "        \"\"\"\n",
    "        try:\n",
    "            # Construct the Hi-C location string\n",
    "            chrom = chrom.replace('chr', '')\n",
    "            loc = f'{chrom}:{start}:{end}'\n",
    "            # Extract Hi-C interaction values\n",
    "            result = hicstraw.straw('observed', normalization, hic_file, loc, loc, 'BP', res)\n",
    "            \n",
    "            num_bins = (end - start) // res\n",
    "            # Use lil_matrix for more efficient sparse matrix construction\n",
    "            hic_matrix = np.zeros((num_bins, num_bins), dtype=np.float32)\n",
    "            \n",
    "            for entry in result:\n",
    "                bin_x = (entry.binX - start) // res\n",
    "                bin_y = (entry.binY - start) // res\n",
    "                \n",
    "                if 0 <= bin_x < num_bins and 0 <= bin_y < num_bins:\n",
    "                    hic_matrix[bin_x, bin_y] = entry.counts\n",
    "                    hic_matrix[bin_y, bin_x] = entry.counts\n",
    "            \n",
    "            \n",
    "            if log1p:\n",
    "                hic_matrix = np.log1p(hic_matrix)\n",
    "            return hic_matrix\n",
    "        except Exception as e:\n",
    "            print(f'Error reading Hi-C matrix for {chrom}:{start}-{end}: {str(e)}')\n",
    "            num_bins = (end - start) // res\n",
    "            return np.zeros((num_bins, num_bins), dtype=np.float32)\n",
    "            "
   ]
  },
  {
   "cell_type": "code",
   "execution_count": null,
   "metadata": {},
   "outputs": [],
   "source": [
    "rootpath = os.path.dirname(os.path.abspath(__file__).join('/..').join('/..').join('/..'))"
   ]
  },
  {
   "cell_type": "markdown",
   "metadata": {},
   "source": [
    "# CTCF ChIAPET"
   ]
  },
  {
   "cell_type": "code",
   "execution_count": null,
   "metadata": {},
   "outputs": [],
   "source": [
    "outputpath = f'{rootpath}/gChIA/src/gchia/Figure/2/CTCF'"
   ]
  },
  {
   "cell_type": "markdown",
   "metadata": {},
   "source": [
    "## 10kb"
   ]
  },
  {
   "cell_type": "code",
   "execution_count": null,
   "metadata": {},
   "outputs": [],
   "source": [
    "cellline = 'GM12878'\n",
    "# load data\n",
    "hic = np.load(f'{rootpath}/gChIA/results/250303_10000_NONE_ChIAPETMatrixPredictor_efeaturesq_log1p_true/GM12878/predictions/pred_matrix_chr10_21000000_23000000.npy')\n",
    "hic = np.expm1(hic)\n",
    "# main dioagonal\n",
    "# hic[np.diag_indices(hic.shape[0])] = 0\n",
    "# load epi\n",
    "bw = pyBigWig.open(f'{rootpath}/gChIA/data/GM12878/bigWig_files/GM12878_ctcf.bw')\n",
    "ctcf = bw.stats('chr10', 21000000, 23000000, type='mean', nBins=hic.shape[0])\n",
    "ctcf = np.array(ctcf)\n",
    "\n",
    "# Close the BigWig file\n",
    "bw.close()\n",
    "\n",
    "epi_list = [ctcf]\n",
    "# real data\n",
    "chiapet = f'{rootpath}/gChIA/data/GM12878/CTCF_ChIA-PET/ENCFF379AWZ.hic'\n",
    "rpet = _read_hic_matrix(chiapet, 'chr10', 21000000, 23000000, 10000,log1p=False)\n",
    "rhic = f'{rootpath}/gChIA/data/GM12878/Hi-C/4DNFI1UEG1HD.hic'\n",
    "rhic = _read_hic_matrix(rhic, 'chr10', 21000000, 23000000, 10000,log1p=False)\n",
    "rhic = np.nan_to_num(rhic)\n",
    "visualize_multiple_HiC_with_epigenetics([hic,rpet], epi_list,hic_labels=['Predicted 10kb','CTCF ChIA-PET 10kb'],epi_labels=['CTCF'],x_ticks=['21MB','chr10','23MB'],colorbar=False,interval_between_hic=0,      \n",
    "    interval_after_hic_block=0.05, \n",
    "    interval_between_epi=0.05,\n",
    "    output=f'{outputpath}/GM12878_10kb_ctcf.png')\n"
   ]
  },
  {
   "cell_type": "markdown",
   "metadata": {},
   "source": [
    "## 5kb"
   ]
  },
  {
   "cell_type": "code",
   "execution_count": null,
   "metadata": {},
   "outputs": [],
   "source": [
    "# load data\n",
    "hic = np.load(f'{rootpath}/gChIA/results/250304_5000_NONE_ChIAPETMatrixPredictor_efeaturesq_log1p_True/GM12878/predictions/pred_matrix_chr10_21000000_23000000.npy')\n",
    "hic = np.expm1(hic)\n",
    "# main dioagonal\n",
    "# hic[np.diag_indices(hic.shape[0])] = 0\n",
    "# load epi\n",
    "bw = pyBigWig.open(f'{rootpath}/gChIA/data/GM12878/bigWig_files/GM12878_ctcf.bw')\n",
    "ctcf = bw.stats('chr10', 21000000, 23000000, type='mean', nBins=hic.shape[0])\n",
    "ctcf = np.array(ctcf)\n",
    "\n",
    "# Close the BigWig file\n",
    "bw.close()\n",
    "\n",
    "epi_list = [ctcf]\n",
    "# real data\n",
    "chiapet = f'{rootpath}/gChIA/data/GM12878/CTCF_ChIA-PET/ENCFF379AWZ.hic'\n",
    "rpet = _read_hic_matrix(chiapet, 'chr10', 21000000, 23000000, 5000,log1p=False)\n",
    "rhic = f'{rootpath}/gChIA/data/GM12878/Hi-C/4DNFI1UEG1HD.hic'\n",
    "rhic = _read_hic_matrix(rhic, 'chr10', 21000000, 23000000, 5000,log1p=False)\n",
    "rhic = np.nan_to_num(rhic)\n"
   ]
  },
  {
   "cell_type": "code",
   "execution_count": null,
   "metadata": {},
   "outputs": [],
   "source": [
    "visualize_multiple_HiC_with_epigenetics([hic,rpet], epi_list,hic_labels=['Predicted 5kb','CTCF ChIA-PET 5kb'],epi_labels=['CTCF'],x_ticks=['21MB','chr10','23MB'],colorbar=False,interval_between_hic=0,      \n",
    "    interval_after_hic_block=0.05, \n",
    "    interval_between_epi=0.05,\n",
    "    output=f'{outputpath}/GM12878_5kb_ctcf.png')"
   ]
  },
  {
   "cell_type": "markdown",
   "metadata": {},
   "source": [
    "## 1kb"
   ]
  },
  {
   "cell_type": "code",
   "execution_count": null,
   "metadata": {},
   "outputs": [],
   "source": [
    "# load data\n",
    "hic = np.load(f'{rootpath}/gChIA/results/250331_GM12878_1000_NONE_ChIAPETMatrixPredictor_efeaturesq_high_CTCF_ChIA-PET_log1p_true_hictype_hic_chiatype_hic/GM12878/predictions/pred_matrix_chr10_21000000_21500000.npy')\n",
    "# main dioagonal\n",
    "# hic[np.diag_indices(hic.shape[0])] = 0\n",
    "# load epi\n",
    "bw = pyBigWig.open(f'{rootpath}/gChIA/data/GM12878/bigWig_files/GM12878_ctcf.bw')\n",
    "ctcf = bw.stats('chr10', 21000000, 21500000, type='mean', nBins=hic.shape[0])\n",
    "ctcf = np.array(ctcf)\n",
    "\n",
    "# Close the BigWig file\n",
    "bw.close()\n",
    "\n",
    "epi_list = [ctcf]\n",
    "# real data\n",
    "chiapet = f'{rootpath}/gChIA/data/GM12878/CTCF_ChIA-PET/ENCFF379AWZ.hic'\n",
    "rpet = _read_hic_matrix(chiapet, 'chr10', 21000000, 21500000, 1000,log1p=False)\n",
    "rhic = f'{rootpath}/gChIA/data/GM12878/Hi-C/4DNFI1UEG1HD.hic'\n",
    "rhic = _read_hic_matrix(rhic, 'chr10', 21000000, 21500000, 1000,log1p=False)\n",
    "rhic = np.nan_to_num(rhic)"
   ]
  },
  {
   "cell_type": "code",
   "execution_count": null,
   "metadata": {},
   "outputs": [],
   "source": [
    "visualize_multiple_HiC_with_epigenetics([hic,rpet], epi_list,hic_labels=['rChIA 1kb','chr10','ChIA-PET 1kb'],epi_labels=['CTCF'],x_ticks=['21MB','21.5MB'],colorbar=False,interval_between_hic=0,      \n",
    "    interval_after_hic_block=0.05, \n",
    "    interval_between_epi=0.05,\n",
    "    output=f'{outputpath}/GM12878_1kb_ctcf.png')"
   ]
  },
  {
   "cell_type": "markdown",
   "metadata": {},
   "source": [
    "# RAD21"
   ]
  },
  {
   "cell_type": "code",
   "execution_count": null,
   "metadata": {},
   "outputs": [],
   "source": [
    "outputpath = f'{rootpath}/gChIA/src/gchia/Figure/2/RAD21'"
   ]
  },
  {
   "cell_type": "markdown",
   "metadata": {},
   "source": [
    "## 10KB"
   ]
  },
  {
   "cell_type": "code",
   "execution_count": null,
   "metadata": {},
   "outputs": [],
   "source": [
    "cellline = 'GM12878'\n",
    "# load data\n",
    "# load data\n",
    "start = 24000000\n",
    "end = 26000000\n",
    "resolution = 10000\n",
    "epxname = '250316_GM12878_10000_NONE_ChIAPETMatrixPredictor_efeaturesq_high_RAD21_ChIA-PET_log1p_true'\n",
    "hic = np.load(ff'{rootpath}/gChIA/results/{epxname}/{cellline}/predictions/pred_matrix_chr10_{start}_{end}.npy')\n",
    "hic = np.expm1(hic)\n",
    "# main dioagonal\n",
    "# hic[np.diag_indices(hic.shape[0])] = 0\n",
    "# load epi\n",
    "bw = pyBigWig.open(ff'{rootpath}/gChIA/data/{cellline}/bigWig_files/{cellline}_RAD21.bw')\n",
    "ctcf = bw.stats('chr10', start, end, type='mean', nBins=hic.shape[0])\n",
    "ctcf = np.array(ctcf)\n",
    "\n",
    "# Close the BigWig file\n",
    "bw.close()\n",
    "\n",
    "epi_list = [ctcf]\n",
    "# real data\n",
    "chiapet = f'{rootpath}/gChIA/data/GM12878/RAD21_ChIA-PET/ENCFF416RNE.hic'\n",
    "rpet = _read_hic_matrix(chiapet, 'chr10',start, end, resolution,log1p=False)\n",
    "rhic = f'{rootpath}/gChIA/data/GM12878/Hi-C/4DNFI1UEG1HD.hic'\n",
    "rhic = _read_hic_matrix(rhic, 'chr10', start, end, resolution,log1p=False)\n",
    "rhic = np.nan_to_num(rhic)\n",
    "visualize_multiple_HiC_with_epigenetics([hic,rpet], epi_list,hic_labels=['Predicted 10kb','RAD21 ChIA-PET 10kb'],epi_labels=['RAD21'],x_ticks=['24MB','chr10','26MB'],colorbar=False,interval_between_hic=0,      \n",
    "    interval_after_hic_block=0.05, \n",
    "    interval_between_epi=0.05,\n",
    "    output=f'{outputpath}/GM12878_10kb_RAD21.png')\n"
   ]
  },
  {
   "cell_type": "markdown",
   "metadata": {},
   "source": [
    "## 5KB"
   ]
  },
  {
   "cell_type": "code",
   "execution_count": null,
   "metadata": {},
   "outputs": [],
   "source": [
    "cellline = 'GM12878'\n",
    "# load data\n",
    "# load data\n",
    "start = 24000000\n",
    "end = 26000000\n",
    "resolution = 5000\n",
    "epxname = '250316_GM12878_5000_NONE_ChIAPETMatrixPredictor_efeaturesq_high_RAD21_ChIA-PET_log1p_true'\n",
    "hic = np.load(ff'{rootpath}/gChIA/results/{epxname}/{cellline}/predictions/pred_matrix_chr10_{start}_{end}.npy')\n",
    "hic = np.expm1(hic)\n",
    "# main dioagonal\n",
    "# hic[np.diag_indices(hic.shape[0])] = 0\n",
    "# load epi\n",
    "bw = pyBigWig.open(ff'{rootpath}/gChIA/data/{cellline}/bigWig_files/{cellline}_RAD21.bw')\n",
    "ctcf = bw.stats('chr10', start, end, type='mean', nBins=hic.shape[0])\n",
    "ctcf = np.array(ctcf)\n",
    "\n",
    "# Close the BigWig file\n",
    "bw.close()\n",
    "\n",
    "epi_list = [ctcf]\n",
    "# real data\n",
    "chiapet = f'{rootpath}/gChIA/data/GM12878/RAD21_ChIA-PET/ENCFF416RNE.hic'\n",
    "rpet = _read_hic_matrix(chiapet, 'chr10',start, end, resolution,log1p=False)\n",
    "rhic = f'{rootpath}/gChIA/data/GM12878/Hi-C/4DNFI1UEG1HD.hic'\n",
    "rhic = _read_hic_matrix(rhic, 'chr10', start, end, resolution,log1p=False)\n",
    "rhic = np.nan_to_num(rhic)\n",
    "visualize_multiple_HiC_with_epigenetics([hic,rpet], epi_list,hic_labels=['Predicted 5kb','RAD21 ChIA-PET 5kb'],epi_labels=['RAD21'],x_ticks=['24MB','chr10','26MB'],colorbar=False,interval_between_hic=0,      \n",
    "    interval_after_hic_block=0.05, \n",
    "    interval_between_epi=0.05,\n",
    "    output=f'{outputpath}/GM12878_5kb_RAD21.png')\n"
   ]
  },
  {
   "cell_type": "markdown",
   "metadata": {},
   "source": [
    "## 1KB"
   ]
  },
  {
   "cell_type": "code",
   "execution_count": null,
   "metadata": {},
   "outputs": [],
   "source": [
    "cellline = 'GM12878'\n",
    "# load data\n",
    "# load data\n",
    "start = 24500000\n",
    "end = 25000000\n",
    "resolution = 1000\n",
    "epxname = '250317_GM12878_1000_NONE_ChIAPETMatrixPredictor_efeaturesq_high_RAD21_ChIA-PET_log1p_true'\n",
    "hic = np.load(ff'{rootpath}/gChIA/results/{epxname}/{cellline}/predictions/pred_matrix_chr10_{start}_{end}.npy')\n",
    "hic = np.expm1(hic)\n",
    "# main dioagonal\n",
    "# hic[np.diag_indices(hic.shape[0])] = 0\n",
    "# load epi\n",
    "bw = pyBigWig.open(ff'{rootpath}/gChIA/data/{cellline}/bigWig_files/{cellline}_RAD21.bw')\n",
    "ctcf = bw.stats('chr10', start, end, type='mean', nBins=hic.shape[0])\n",
    "ctcf = np.array(ctcf)\n",
    "\n",
    "# Close the BigWig file\n",
    "bw.close()\n",
    "\n",
    "epi_list = [ctcf]\n",
    "# real data\n",
    "chiapet = f'{rootpath}/gChIA/data/GM12878/RAD21_ChIA-PET/ENCFF416RNE.hic'\n",
    "rpet = _read_hic_matrix(chiapet, 'chr10',start, end, resolution,log1p=False)\n",
    "rhic = f'{rootpath}/gChIA/data/GM12878/Hi-C/4DNFI1UEG1HD.hic'\n",
    "rhic = _read_hic_matrix(rhic, 'chr10', start, end, resolution,log1p=False)\n",
    "rhic = np.nan_to_num(rhic)\n",
    "visualize_multiple_HiC_with_epigenetics([hic,rpet], epi_list,hic_labels=['Predicted 10kb','RAD21 ChIA-PET 10kb'],epi_labels=['RAD21'],x_ticks=['24.5MB','chr10','25MB'],colorbar=False,interval_between_hic=0,      \n",
    "    interval_after_hic_block=0.05, \n",
    "    interval_between_epi=0.05,\n",
    "    output=f'{outputpath}/GM12878_1kb_RAD21.png')\n"
   ]
  },
  {
   "cell_type": "code",
   "execution_count": null,
   "metadata": {},
   "outputs": [],
   "source": []
  },
  {
   "cell_type": "code",
   "execution_count": null,
   "metadata": {},
   "outputs": [],
   "source": [
    "visualize_multiple_HiC_with_epigenetics([hic,rpet], epi_list,hic_labels=['rChIA 1kb','microC 1kb'],x_ticks=['21MB','21.5MB'],colorbar=False,interval_between_hic=0,      \n",
    "    interval_after_hic_block=0.05, \n",
    "    interval_between_epi=0,\n",
    "    epi_labels=['CTCF','DNase-seq','H3K4me3','H3K27ac','H3K27me3','RAD21'],maxperc=97)"
   ]
  },
  {
   "cell_type": "markdown",
   "metadata": {},
   "source": [
    "# 跨细胞系"
   ]
  },
  {
   "cell_type": "markdown",
   "metadata": {},
   "source": [
    "## 10kb"
   ]
  },
  {
   "cell_type": "code",
   "execution_count": null,
   "metadata": {},
   "outputs": [],
   "source": [
    "realhic = f'{rootpath}/gChIA/data/IMR90/4DNFIH7TH4MF.hic'\n",
    "chiapet = f'{rootpath}/gChIA/data/IMR90/CTCF_ChIA-PET/ENCFF934OLI.hic'\n",
    "# load data\n",
    "hic = np.load(f'{rootpath}/gChIA/results/250303_10000_NONE_ChIAPETMatrixPredictor_efeaturesq_log1p_true/GM12878toIMR90/predictions/pred_matrix_chr10_21000000_23000000.npy')\n",
    "hic = np.expm1(hic)\n",
    "# main dioagonal\n",
    "# hic[np.diag_indices(hic.shape[0])] = 0\n",
    "# load epi\n",
    "bw = pyBigWig.open(f'{rootpath}/gChIA/data/IMR90/bigWig_files/IMR90_ctcf.bw')\n",
    "ctcf = bw.stats('chr10', 21000000, 23000000, type='mean', nBins=hic.shape[0])\n",
    "ctcf = np.array(ctcf)\n",
    "\n",
    "# Close the BigWig file\n",
    "bw.close()\n",
    "\n",
    "epi_list = [ctcf]\n",
    "# real data\n",
    "\n",
    "rpet = _read_hic_matrix(chiapet, 'chr10', 21000000, 23000000, 10000,log1p=False)\n",
    "\n",
    "rhic = _read_hic_matrix(realhic, 'chr10', 21000000, 23000000, 10000,log1p=False)\n",
    "\n",
    "visualize_multiple_HiC_with_epigenetics([hic,rpet], epi_list,hic_labels=['rChIA 10kb','ChIA-PET 10kb'],epi_labels=['CTCF'],x_ticks=['21MB','23MB'],colorbar=False,interval_between_hic=0,      \n",
    "    interval_after_hic_block=0.05, \n",
    "    interval_between_epi=0.05)"
   ]
  },
  {
   "cell_type": "markdown",
   "metadata": {},
   "source": [
    "## 5kb"
   ]
  },
  {
   "cell_type": "code",
   "execution_count": null,
   "metadata": {},
   "outputs": [],
   "source": [
    "hic = np.load(f'{rootpath}/gChIA/results/250304_5000_NONE_ChIAPETMatrixPredictor_efeaturesq_log1p_True/GM12878toIMR90/predictions/pred_matrix_chr10_21000000_23000000.npy')\n",
    "hic = np.expm1(hic)\n",
    "# main dioagonal\n",
    "# hic[np.diag_indices(hic.shape[0])] = 0\n",
    "# load epi\n",
    "bw = pyBigWig.open(f'{rootpath}/gChIA/data/IMR90/bigWig_files/IMR90_ctcf.bw')\n",
    "ctcf = bw.stats('chr10', 21000000, 23000000, type='mean', nBins=hic.shape[0])\n",
    "ctcf = np.array(ctcf)\n",
    "\n",
    "# Close the BigWig file\n",
    "bw.close()\n",
    "\n",
    "epi_list = [ctcf]\n",
    "# real data\n",
    "\n",
    "rpet = _read_hic_matrix(chiapet, 'chr10', 21000000, 23000000, 5000,log1p=False)\n",
    "\n",
    "rhic = _read_hic_matrix(realhic, 'chr10', 21000000, 23000000, 5000,log1p=False)\n",
    "visualize_multiple_HiC_with_epigenetics([hic,rpet], epi_list,hic_labels=['rChIA 5kb','ChIA-PET 5kb'],epi_labels=['CTCF'],x_ticks=['21MB','23MB'],colorbar=False,interval_between_hic=0,      \n",
    "    interval_after_hic_block=0.05, \n",
    "    interval_between_epi=0.05)"
   ]
  },
  {
   "cell_type": "code",
   "execution_count": null,
   "metadata": {},
   "outputs": [],
   "source": [
    "hic = np.load(f'{rootpath}/gChIA/results/250307_1000_NONE_ChIAPETMatrixPredictor_efeaturesq_log1p_true/GM12878toIMR90/predictions/pred_matrix_chr10_21000000_21500000.npy')\n",
    "hic = np.expm1(hic)\n",
    "# main dioagonal\n",
    "# hic[np.diag_indices(hic.shape[0])] = 0\n",
    "# load epi\n",
    "bw = pyBigWig.open(f'{rootpath}/gChIA/data/IMR90/bigWig_files/IMR90_ctcf.bw')\n",
    "ctcf = bw.stats('chr10', 21000000, 23000000, type='mean', nBins=hic.shape[0])\n",
    "ctcf = np.array(ctcf)\n",
    "\n",
    "# Close the BigWig file\n",
    "bw.close()\n",
    "\n",
    "epi_list = [ctcf]\n",
    "# real data\n",
    "\n",
    "rpet = _read_hic_matrix(chiapet, 'chr10', 21000000, 21500000, 1000,log1p=False)\n",
    "\n",
    "rhic = _read_hic_matrix(realhic, 'chr10', 21000000, 21500000, 1000,log1p=False)\n",
    "visualize_multiple_HiC_with_epigenetics([hic,rpet], epi_list,hic_labels=['rChIA 1kb','ChIA-PET 1kb'],epi_labels=['CTCF'],x_ticks=['21MB','21.5MB'],colorbar=False,interval_between_hic=0,      \n",
    "    interval_after_hic_block=0.05, \n",
    "    interval_between_epi=0.05)"
   ]
  },
  {
   "cell_type": "code",
   "execution_count": null,
   "metadata": {},
   "outputs": [],
   "source": [
    "cellline = 'GM12878'\n",
    "# load data\n",
    "# hic = np.load(f'{rootpath}/gChIA/results/250303_10000_NONE_ChIAPETMatrixPredictor_efeaturesq_log1p_true/GM12878/predictions/pred_matrix_chr10_21000000_23000000.npy')\n",
    "# hic = np.expm1(hic)\n",
    "# main dioagonal\n",
    "# hic[np.diag_indices(hic.shape[0])] = 0\n",
    "# load epi\n",
    "\n",
    "\n",
    "\n",
    "start = 15500000\n",
    "end = start + 2000000\n",
    "# real data\n",
    "hic = np.load(ff'{rootpath}/gChIA/results/250303_10000_NONE_ChIAPETMatrixPredictor_efeaturesq_log1p_true/GM12878/predictions/pred_matrix_chr10_{start}_{end}.npy')\n",
    "hic = np.expm1(hic)\n",
    "bwGM = pyBigWig.open(f'{rootpath}/gChIA/data/GM12878/bigWig_files/GM12878_ctcf.bw')\n",
    "ctcfGM = bwGM.stats('chr10', start, end, type='mean', nBins=hic.shape[0])\n",
    "ctcfGM = np.array(ctcfGM)\n",
    "epi_listGM = [ctcfGM]\n",
    "bwIMR = pyBigWig.open(f'{rootpath}/gChIA/data/IMR90/bigWig_files/IMR90_ctcf.bw')\n",
    "ctcfIMR = bwIMR.stats('chr10', start, end, type='mean', nBins=hic.shape[0])\n",
    "ctcfIMR = np.array(ctcfIMR)\n",
    "epi_listIMR = [ctcfIMR]\n",
    "# Close the BigWig file\n",
    "bw.close()\n",
    "hicIM = np.load(ff'{rootpath}/gChIA/results/250303_10000_NONE_ChIAPETMatrixPredictor_efeaturesq_log1p_true/GM12878toIMR90/predictions/pred_matrix_chr10_{start}_{end}.npy')\n",
    "hicIM = np.expm1(hicIM)\n",
    "chiapet = f'{rootpath}/gChIA/data/GM12878/CTCF_ChIA-PET/ENCFF379AWZ.hic'\n",
    "rpet = _read_hic_matrix(chiapet, 'chr10', start, end, 10000,log1p=False)\n",
    "rhic = f'{rootpath}/gChIA/data/IMR90/CTCF_ChIA-PET/ENCFF934OLI.hic'\n",
    "rhic = _read_hic_matrix(rhic, 'chr10', start, end, 10000,log1p=False)\n",
    "rhic = np.nan_to_num(rhic)\n",
    "outputpath = f'{rootpath}/gChIA/src/gchia/Figure/5'\n",
    "visualize_multiple_HiC_with_epigenetics([rhic,hicIM], epi_listIMR,hic_labels=['IMR90','predicted'],epi_labels=['CTCF'],x_ticks=[f'{start/1000000}MB','chr10',f'{end/1000000}MB'],colorbar=False,interval_between_hic=0,      \n",
    "    interval_after_hic_block=0.05, \n",
    "    interval_between_epi=0.05,\n",
    "    output=f'{outputpath}/IMR90_10kb_ctcf.png')\n",
    "visualize_multiple_HiC_with_epigenetics([rpet,hic], epi_listGM,hic_labels=['GM12878','predicted'],epi_labels=['CTCF'],x_ticks=[f'{start/1000000}MB','chr10',f'{end/1000000}MB'],colorbar=False,interval_between_hic=0,      \n",
    "    interval_after_hic_block=0.05, \n",
    "    interval_between_epi=0.05,\n",
    "    output=f'{outputpath}/GM12878_10kb_ctcf.png'\n",
    "    )\n",
    "\n",
    "\n"
   ]
  },
  {
   "cell_type": "markdown",
   "metadata": {},
   "source": [
    "# High-resulotion"
   ]
  },
  {
   "cell_type": "code",
   "execution_count": null,
   "metadata": {},
   "outputs": [],
   "source": [
    "cellline = 'GM12878'\n",
    "# load data\n",
    "# hic = np.load(f'{rootpath}/gChIA/results/250303_10000_NONE_ChIAPETMatrixPredictor_efeaturesq_log1p_true/GM12878/predictions/pred_matrix_chr10_21000000_23000000.npy')\n",
    "# hic = np.expm1(hic)\n",
    "# main dioagonal\n",
    "# hic[np.diag_indices(hic.shape[0])] = 0\n",
    "# load epi\n",
    "start = 21000000\n",
    "end = start + 500000\n",
    "# real data\n",
    "prepath = f'{rootpath}/gChIA/results/250307_1000_NONE_ChIAPETMatrixPredictor_efeaturesq_log1p_true/GM12878/predictions'\n",
    "datapath = ff'{rootpath}/gChIA/data/{cellline}/bigWig_files'\n",
    "pre = np.load(f'{prepath}/pred_matrix_chr10_{start}_{end}.npy')\n",
    "pre = np.expm1(pre)\n",
    "bwlist = ['ctcf']\n",
    "bw = []\n",
    "for i in bwlist:\n",
    "    bw.append(pyBigWig.open(f'{datapath}/{cellline}_{i}.bw'))\n",
    "epi_list = []\n",
    "for i in range(len(bwlist)):\n",
    "    bwf = bw[i].stats('chr10', start, end, type='mean', nBins=pre.shape[0])\n",
    "    bwn = np.array(bwf)\n",
    "    bw[i].close()\n",
    "    epi_list.append(bwf)\n",
    "\n",
    "# Close the BigWig file\n",
    "\n",
    "realpath = f'{rootpath}/gChIA/data/GM12878/CTCF_ChIA-PET/ENCFF379AWZ.hic'\n",
    "rpet = _read_hic_matrix(realpath, 'chr10', start, end, 1000,log1p=False)\n",
    "outputpath = f'{rootpath}/gChIA/src/gchia/Figure/6'\n",
    "os.path.exists(outputpath) or os.makedirs(outputpath)\n",
    "visualize_multiple_HiC_with_epigenetics([rpet,pre], epi_list,hic_labels=['CTCF ChIA-PET 1kb','Predicted'],epi_labels=['CTCF'],x_ticks=[f'{start/1000000}MB','chr10',f'{end/1000000}MB'],colorbar=False,interval_between_hic=0,      \n",
    "    interval_after_hic_block=0.05, \n",
    "    interval_between_epi=0.05,\n",
    "    output=f'{outputpath}/{cellline}_1kb_ctcf.png',\n",
    "    maxperc=99)\n",
    "\n",
    "\n",
    "\n"
   ]
  },
  {
   "cell_type": "code",
   "execution_count": null,
   "metadata": {},
   "outputs": [],
   "source": [
    "cellline = 'H1-hESC'\n",
    "# load data\n",
    "# hic = np.load(f'{rootpath}/gChIA/results/250303_10000_NONE_ChIAPETMatrixPredictor_efeaturesq_log1p_true/GM12878/predictions/pred_matrix_chr10_21000000_23000000.npy')\n",
    "# hic = np.expm1(hic)\n",
    "# main dioagonal\n",
    "# hic[np.diag_indices(hic.shape[0])] = 0\n",
    "# load epi\n",
    "start = 21000000\n",
    "end = start + 500000\n",
    "# real data\n",
    "prepath = f'{rootpath}/gChIA/results/250414_H1-hESC_1000_NONE_ChIAPETMatrixPredictor_efeaturesq_high_micro-c_log1p_true_hictype_hic_chiatype_hic_PREDICT_ONLY_hicres_5000/H1-hESCtoH1-hESC/predictions'\n",
    "datapath = ff'{rootpath}/gChIA/data/{cellline}/bigWig_files'\n",
    "pre = np.load(f'{prepath}/pred_matrix_chr10_{start}_{end}.npy')\n",
    "pre = np.expm1(pre)\n",
    "bwlist = ['ctcf','DNase-seq','H3K27ac']\n",
    "bw = []\n",
    "for i in bwlist:\n",
    "    print(f'{datapath}/{cellline}_{i}.bw')\n",
    "    bw.append(pyBigWig.open(f'{datapath}/{cellline}_{i}.bw'))\n",
    "epi_list = []\n",
    "for i in range(len(bwlist)):\n",
    "    bwf = bw[i].stats('chr10', start, end, type='mean', nBins=pre.shape[0])\n",
    "    bwn = np.array(bwf)\n",
    "    bw[i].close()\n",
    "    epi_list.append(bwf)\n",
    "\n",
    "# Close the BigWig file\n",
    "\n",
    "realpath = f'{rootpath}/gChIA/data/IMR90/Hi-C/4DNFIH7TH4MF.hic'\n",
    "rpet = _read_hic_matrix(realpath, 'chr10', start, end, 1000,log1p=False)\n",
    "outputpath = f'{rootpath}/gChIA/src/gchia/Figure/6'\n",
    "os.path.exists(outputpath) or os.makedirs(outputpath)\n",
    "visualize_multiple_HiC_with_epigenetics([rpet,pre],hic_labels=['Micro-C 1kb','Predicted'],x_ticks=[f'{start/1000000}MB','chr10',f'{end/1000000}MB'],colorbar=False,interval_between_hic=0,      \n",
    "    interval_after_hic_block=0.05, \n",
    "    interval_between_epi=0.05,\n",
    "    output=f'{outputpath}/{cellline}_1kb_micro.png',\n",
    "    maxperc=97)\n",
    "\n",
    "\n",
    "\n"
   ]
  }
 ],
 "metadata": {
  "kernelspec": {
   "display_name": "base",
   "language": "python",
   "name": "python3"
  },
  "language_info": {
   "codemirror_mode": {
    "name": "ipython",
    "version": 3
   },
   "file_extension": ".py",
   "mimetype": "text/x-python",
   "name": "python",
   "nbconvert_exporter": "python",
   "pygments_lexer": "ipython3",
   "version": "3.12.2"
  }
 },
 "nbformat": 4,
 "nbformat_minor": 2
}
