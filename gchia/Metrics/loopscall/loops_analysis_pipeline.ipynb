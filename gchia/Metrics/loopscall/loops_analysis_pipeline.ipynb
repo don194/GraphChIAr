{
 "cells": [
  {
   "cell_type": "markdown",
   "metadata": {},
   "source": [
    "# CTCF"
   ]
  },
  {
   "cell_type": "code",
   "execution_count": null,
   "metadata": {},
   "outputs": [],
   "source": [
    "!python loops_analysis_pipeline.py \\\n",
    "  --reference  ~/work/gChIA/data/GM12878/CTCF_ChIA-PET/ENCFF379AWZ.hic \\\n",
    "  --reference-name \"CTCF ChIA-PET\" \\\n",
    "  --predictions ~/work/gChIA/results/250303_10000_NONE_ChIAPETMatrixPredictor_efeaturesq_log1p_true/GM12878/predictions \\\n",
    "       ~/PaperCode/DeepChIA-PET/results/250211_10000_NONE/GM12878/predictions \\\n",
    "  --names \"GraghChIAr\" \"DeepChIA-PET\" \\\n",
    "  --chromosome chr10 \\\n",
    "  --resolution 10000 \\\n",
    "  --other-hic  ~/gChIA/data/GM12878/Hi-C/4DNFI1UEG1HD.hic \\\n",
    "  --other-names \"Hi-C\" \\\n",
    "  --maxapart 2000000 \\\n",
    "  --chr-sizes  ~/work/gChIA/ReferenceGenome/hg38/hg38.chrom.sizes\\\n",
    "  --output-dir ~/work/gChIA/src/gchia/Figure/3/10kb"
   ]
  },
  {
   "cell_type": "code",
   "execution_count": null,
   "metadata": {},
   "outputs": [],
   "source": [
    "!python loops_analysis_pipeline.py \\\n",
    "  --reference  ~/work/gChIA/data/GM12878/CTCF_ChIA-PET/ENCFF379AWZ.hic \\\n",
    "  --reference-name \"CTCF ChIA-PET\" \\\n",
    "  --predictions ~/work/gChIA/results/250304_5000_NONE_ChIAPETMatrixPredictor_efeaturesq_log1p_True/GM12878/predictions \\\n",
    "       ~/PaperCode/DeepChIA-PET/results/250330_5000_NONE/GM12878/predictions \\\n",
    "  --names \"GraghChIAr\" \"DeepChIA-PET\" \\\n",
    "  --chromosome chr10 \\\n",
    "  --resolution 5000 \\\n",
    "  --other-hic  ~/work/gChIA/data/GM12878/Hi-C/4DNFI1UEG1HD.hic \\\n",
    "  --other-names \"Hi-C\" \\\n",
    "  --maxapart 2000000 \\\n",
    "  --chr-sizes  ~/work/gChIA/ReferenceGenome/hg38/hg38.chrom.sizes\\\n",
    "  --output-dir ~/work/gChIA/src/gchia/Figure/3/5kb"
   ]
  },
  {
   "cell_type": "markdown",
   "metadata": {},
   "source": []
  },
  {
   "cell_type": "markdown",
   "metadata": {},
   "source": [
    "# Ablation studies"
   ]
  },
  {
   "cell_type": "code",
   "execution_count": null,
   "metadata": {},
   "outputs": [],
   "source": [
    "!python loops_analysis_pipeline.py \\\n",
    "  --reference  ~/work/gChIA/data/GM12878/CTCF_ChIA-PET/ENCFF379AWZ.hic \\\n",
    "  --reference-name \"CTCF ChIA-PET\" \\\n",
    "  --predictions ~/work/gChIA/results/250303_10000_NONE_ChIAPETMatrixPredictor_efeaturesq_log1p_true/GM12878/predictions \\\n",
    "      ~/work/gChIA/results/250406_GM12878_10000_NONE_ChIAPETMatrixPredictor_efeature_nosq_CTCF_ChIA-PET_log1p_true_hictype_hic_chiatype_hic/GM12878/predictions  \\\n",
    "  --names \"GraghChIAr\" \"GraghChIAr-NoSeq\" \\\n",
    "  --chromosome chr10 \\\n",
    "  --resolution 10000 \\\n",
    "  --other-hic  ~/work/gChIA/data/GM12878/Hi-C/4DNFI1UEG1HD.hic \\\n",
    "  --other-names \"Hi-C\" \\\n",
    "  --maxapart 2000000 \\\n",
    "  --chr-sizes  ~/work/gChIA/ReferenceGenome/hg38/hg38.chrom.sizes\\\n",
    "  --output-dir ~/work/gChIA/src/gchia/Figure/4/10kb"
   ]
  },
  {
   "cell_type": "code",
   "execution_count": null,
   "metadata": {},
   "outputs": [],
   "source": [
    "!python loops_analysis_pipeline.py \\\n",
    "  --reference  ~/work/gChIA/data/GM12878/CTCF_ChIA-PET/ENCFF379AWZ.hic \\\n",
    "  --reference-name \"CTCF ChIA-PET\" \\\n",
    "  --predictions ~/work/gChIA/results/250304_5000_NONE_ChIAPETMatrixPredictor_efeaturesq_log1p_True/GM12878/predictions \\\n",
    "      ~/work/gChIA/results/250406_GM12878_5000_NONE_ChIAPETMatrixPredictor_efeature_nosq_CTCF_ChIA-PET_log1p_true_hictype_hic_chiatype_hic/GM12878/predictions  \\\n",
    "  --names \"GraghChIAr\" \"GraghChIAr-NoSeq\" \\\n",
    "  --chromosome chr10 \\\n",
    "  --resolution 5000 \\\n",
    "  --other-hic  ~/work/gChIA/data/GM12878/Hi-C/4DNFI1UEG1HD.hic \\\n",
    "  --other-names \"Hi-C\" \\\n",
    "  --maxapart 2000000 \\\n",
    "  --chr-sizes  ~/work/gChIA/ReferenceGenome/hg38/hg38.chrom.sizes\\\n",
    "  --output-dir ~/work/gChIA/src/gchia/Figure/4/5kb"
   ]
  },
  {
   "cell_type": "markdown",
   "metadata": {},
   "source": [
    "# cross cell line"
   ]
  },
  {
   "cell_type": "code",
   "execution_count": null,
   "metadata": {},
   "outputs": [],
   "source": [
    "!python loops_analysis_pipeline.py \\\n",
    "  --reference  ~/work/gChIA/data/IMR90/CTCF_ChIA-PET/ENCFF934OLI.hic \\\n",
    "  --reference-name \"CTCF ChIA-PET\" \\\n",
    "  --predictions ~/work/gChIA/results/250303_10000_NONE_ChIAPETMatrixPredictor_efeaturesq_log1p_true/GM12878toIMR90/predictions \\\n",
    "       ~/work/gChIA/results/250406_GM12878_10000_NONE_ChIAPETMatrixPredictor_efeature_nosq_CTCF_ChIA-PET_log1p_true_hictype_hic_chiatype_hic/GM12878toIMR90/predictions\\\n",
    "  --names \"GraghChIAr\" \"DeepChIA-PET\" \\\n",
    "  --chromosome chr10 \\\n",
    "  --resolution 10000 \\\n",
    "  --other-hic  ~/work/gChIA/data/IMR90/Hi-C/4DNFIH7TH4MF.hic \\\n",
    "  --other-names \"Hi-C\" \\\n",
    "  --maxapart 2000000 \\\n",
    "  --chr-sizes  ~/work/gChIA/ReferenceGenome/hg38/hg38.chrom.sizes\\\n",
    "  --output-dir ~/work/gChIA/src/gchia/Figure/5/10kb"
   ]
  },
  {
   "cell_type": "code",
   "execution_count": null,
   "metadata": {},
   "outputs": [],
   "source": [
    "!python loops_analysis_pipeline.py \\\n",
    "  --reference  ~/work/gChIA/data/IMR90/CTCF_ChIA-PET/ENCFF934OLI.hic \\\n",
    "  --reference-name \"CTCF ChIA-PET\" \\\n",
    "  --predictions ~/work/gChIA/results/250304_5000_NONE_ChIAPETMatrixPredictor_efeaturesq_log1p_True/GM12878toIMR90/predictions \\\n",
    "       ~/PaperCode/DeepChIA-PET/results/250330_5000_NONE/IMR90/predictions \\\n",
    "  --names \"GraghChIAr\" \"DeepChIA-PET\" \\\n",
    "  --chromosome chr10 \\\n",
    "  --resolution 5000 \\\n",
    "  --other-hic  ~/work/gChIA/data/IMR90/Hi-C/4DNFIH7TH4MF.hic \\\n",
    "  --other-names \"Hi-C\" \\\n",
    "  --maxapart 2000000 \\\n",
    "  --chr-sizes  ~/work/gChIA/ReferenceGenome/hg38/hg38.chrom.sizes\\\n",
    "  --output-dir ~/work/gChIA/src/gchia/Figure/5/5kb"
   ]
  },
  {
   "cell_type": "code",
   "execution_count": null,
   "metadata": {},
   "outputs": [],
   "source": [
    "!python loops_analysis_pipeline.py \\\n",
    "  --reference  ~/work/gChIA/data/K562/CTCF_ChIA-PET/ENCFF914SWR.hic \\\n",
    "  --reference-name \"CTCF ChIA-PET\" \\\n",
    "  --predictions ~/work/gChIA/results/250303_10000_NONE_ChIAPETMatrixPredictor_efeaturesq_log1p_true/GM12878toK562/predictions \\\n",
    "       ~/PaperCode/DeepChIA-PET/results/250211_10000_NONE/K562/predictions \\\n",
    "  --names \"GraghChIAr\" \"DeepChIA-PET\" \\\n",
    "  --chromosome chr10 \\\n",
    "  --resolution 10000 \\\n",
    "  --other-hic  ~/work/gChIA/data/K562/Hi-C/4DNFITUOMFUQ.hic \\\n",
    "  --other-names \"Hi-C\" \\\n",
    "  --maxapart 2000000 \\\n",
    "  --chr-sizes  ~/work/gChIA/ReferenceGenome/hg38/hg38.chrom.sizes\\\n",
    "  --output-dir ~/work/gChIA/src/gchia/Figure/5/10kb/k562"
   ]
  }
 ],
 "metadata": {
  "kernelspec": {
   "display_name": "HiCPeaks",
   "language": "python",
   "name": "python3"
  },
  "language_info": {
   "codemirror_mode": {
    "name": "ipython",
    "version": 3
   },
   "file_extension": ".py",
   "mimetype": "text/x-python",
   "name": "python",
   "nbconvert_exporter": "python",
   "pygments_lexer": "ipython3",
   "version": "3.9.21"
  }
 },
 "nbformat": 4,
 "nbformat_minor": 2
}
